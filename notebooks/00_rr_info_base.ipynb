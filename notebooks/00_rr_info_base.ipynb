{
 "cells": [
  {
   "cell_type": "markdown",
   "metadata": {},
   "source": [
    "# Análise de sentimento - base IMDB"
   ]
  },
  {
   "cell_type": "markdown",
   "metadata": {},
   "source": [
    "https://www.imdb.com/"
   ]
  },
  {
   "cell_type": "markdown",
   "metadata": {},
   "source": [
    "O dataset IMDB é uma coletânea de críticas de usuários do IMDB (Internet Movie DataBase). \n",
    "\n",
    "Com 50.000 avaliações, divididas igualmente entre positivas e negativas, permite o estudo de análise de sentimentos e processamento de linguagem natural. Este dataset é ideal para treinar modelos de machine learning, permitindo aprofundar seu conhecimento em técnicas de classificação e análise de texto. Através dele, podemos extrair padrões e tendências nas opiniões de espectadores sobre filmes."
   ]
  },
  {
   "cell_type": "markdown",
   "metadata": {},
   "source": [
    "## Estrutura do projeto"
   ]
  },
  {
   "cell_type": "markdown",
   "metadata": {},
   "source": [
    "O projeto seguirá a seguinte estrutura a mesma estrutura de pastas e de organização de código de projetos anteriores. Obviamente, alguns novos conceitos serão introduzidos, mas a estrutura geral será a mesma.\n"
   ]
  },
  {
   "cell_type": "markdown",
   "metadata": {},
   "source": [
    "## Verificando a versão das bibliotecas"
   ]
  },
  {
   "cell_type": "code",
   "execution_count": 1,
   "metadata": {},
   "outputs": [
    {
     "name": "stdout",
     "output_type": "stream",
     "text": [
      "Versões das bibliotecas:\n",
      "\n",
      "-------------------- | ----------\n",
      "     Biblioteca      |   Versão  \n",
      "-------------------- | ----------\n",
      "Matplotlib           |      3.9.2\n",
      "NumPy                |      2.1.3\n",
      "TensorFlow           |     2.19.0\n",
      "\n",
      "Versão do Python: 3.12.5\n"
     ]
    }
   ],
   "source": [
    "import matplotlib\n",
    "import numpy as np\n",
    "import tensorflow as tf\n",
    "from platform import python_version\n",
    "\n",
    "bibliotecas = {\n",
    "    \"Matplotlib\": matplotlib,\n",
    "    \"NumPy\": np,\n",
    "    \"TensorFlow\": tf,\n",
    "}\n",
    "\n",
    "print(\"Versões das bibliotecas:\\n\")\n",
    "print(f\"{'':-^20} | {'':-^10}\")\n",
    "print(f\"{'Biblioteca':^20} | {'Versão':^10}\")\n",
    "print(f\"{'':-^20} | {'':-^10}\")\n",
    "\n",
    "for nome, biblioteca in sorted(bibliotecas.items()):\n",
    "    print(f\"{nome:<20} | {biblioteca.__version__:>10}\")\n",
    "\n",
    "print()\n",
    "print(f\"Versão do Python: {python_version()}\")"
   ]
  }
 ],
 "metadata": {
  "kernelspec": {
   "display_name": "Python 3 (ipykernel)",
   "language": "python",
   "name": "python3"
  },
  "language_info": {
   "codemirror_mode": {
    "name": "ipython",
    "version": 3
   },
   "file_extension": ".py",
   "mimetype": "text/x-python",
   "name": "python",
   "nbconvert_exporter": "python",
   "pygments_lexer": "ipython3",
   "version": "3.12.5"
  }
 },
 "nbformat": 4,
 "nbformat_minor": 4
}
