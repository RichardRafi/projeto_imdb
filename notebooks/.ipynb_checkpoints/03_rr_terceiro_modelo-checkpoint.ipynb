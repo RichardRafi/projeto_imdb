{
 "cells": [
  {
   "cell_type": "markdown",
   "metadata": {},
   "source": [
    "# Análise de sentimento - base IMDB"
   ]
  },
  {
   "cell_type": "markdown",
   "metadata": {},
   "source": [
    "## Segundo modelo"
   ]
  },
  {
   "cell_type": "markdown",
   "metadata": {},
   "source": [
    "Etapas:\n",
    "\n",
    "- Carregar dados\n",
    "- Definir modelo Keras\n",
    "- Compilar modelo Keras\n",
    "- Ajustar (fit) modelo Keras\n",
    "- Avaliar (evalute) modelo Keras\n",
    "- Faça previsões (predict)"
   ]
  },
  {
   "cell_type": "markdown",
   "metadata": {},
   "source": [
    "## Carregar dados"
   ]
  },
  {
   "cell_type": "code",
   "execution_count": 1,
   "metadata": {},
   "outputs": [],
   "source": [
    "import os\n",
    "\n",
    "os.environ[\"TF_CPP_MIN_LOG_LEVEL\"] = \"2\""
   ]
  },
  {
   "cell_type": "code",
   "execution_count": 2,
   "metadata": {},
   "outputs": [],
   "source": [
    "import matplotlib.pyplot as plt\n",
    "import numpy as np\n",
    "import tensorflow as tf\n",
    "from tensorflow import keras"
   ]
  },
  {
   "cell_type": "code",
   "execution_count": 3,
   "metadata": {},
   "outputs": [],
   "source": [
    "data = keras.datasets.imdb\n",
    "\n",
    "(x_train, y_train), (x_test, y_test) = data.load_data()"
   ]
  },
  {
   "cell_type": "code",
   "execution_count": 4,
   "metadata": {},
   "outputs": [
    {
     "data": {
      "text/plain": [
       "((25000,), (25000,))"
      ]
     },
     "execution_count": 4,
     "metadata": {},
     "output_type": "execute_result"
    }
   ],
   "source": [
    "x_train.shape, y_train.shape"
   ]
  },
  {
   "cell_type": "code",
   "execution_count": 5,
   "metadata": {},
   "outputs": [
    {
     "data": {
      "text/plain": [
       "((25000,), (25000,))"
      ]
     },
     "execution_count": 5,
     "metadata": {},
     "output_type": "execute_result"
    }
   ],
   "source": [
    "x_test.shape, y_test.shape\n"
   ]
  },
  {
   "cell_type": "code",
   "execution_count": 6,
   "metadata": {},
   "outputs": [
    {
     "data": {
      "text/plain": [
       "[1,\n",
       " 14,\n",
       " 22,\n",
       " 16,\n",
       " 43,\n",
       " 530,\n",
       " 973,\n",
       " 1622,\n",
       " 1385,\n",
       " 65,\n",
       " 458,\n",
       " 4468,\n",
       " 66,\n",
       " 3941,\n",
       " 4,\n",
       " 173,\n",
       " 36,\n",
       " 256,\n",
       " 5,\n",
       " 25,\n",
       " 100,\n",
       " 43,\n",
       " 838,\n",
       " 112,\n",
       " 50,\n",
       " 670,\n",
       " 22665,\n",
       " 9,\n",
       " 35,\n",
       " 480,\n",
       " 284,\n",
       " 5,\n",
       " 150,\n",
       " 4,\n",
       " 172,\n",
       " 112,\n",
       " 167,\n",
       " 21631,\n",
       " 336,\n",
       " 385,\n",
       " 39,\n",
       " 4,\n",
       " 172,\n",
       " 4536,\n",
       " 1111,\n",
       " 17,\n",
       " 546,\n",
       " 38,\n",
       " 13,\n",
       " 447,\n",
       " 4,\n",
       " 192,\n",
       " 50,\n",
       " 16,\n",
       " 6,\n",
       " 147,\n",
       " 2025,\n",
       " 19,\n",
       " 14,\n",
       " 22,\n",
       " 4,\n",
       " 1920,\n",
       " 4613,\n",
       " 469,\n",
       " 4,\n",
       " 22,\n",
       " 71,\n",
       " 87,\n",
       " 12,\n",
       " 16,\n",
       " 43,\n",
       " 530,\n",
       " 38,\n",
       " 76,\n",
       " 15,\n",
       " 13,\n",
       " 1247,\n",
       " 4,\n",
       " 22,\n",
       " 17,\n",
       " 515,\n",
       " 17,\n",
       " 12,\n",
       " 16,\n",
       " 626,\n",
       " 18,\n",
       " 19193,\n",
       " 5,\n",
       " 62,\n",
       " 386,\n",
       " 12,\n",
       " 8,\n",
       " 316,\n",
       " 8,\n",
       " 106,\n",
       " 5,\n",
       " 4,\n",
       " 2223,\n",
       " 5244,\n",
       " 16,\n",
       " 480,\n",
       " 66,\n",
       " 3785,\n",
       " 33,\n",
       " 4,\n",
       " 130,\n",
       " 12,\n",
       " 16,\n",
       " 38,\n",
       " 619,\n",
       " 5,\n",
       " 25,\n",
       " 124,\n",
       " 51,\n",
       " 36,\n",
       " 135,\n",
       " 48,\n",
       " 25,\n",
       " 1415,\n",
       " 33,\n",
       " 6,\n",
       " 22,\n",
       " 12,\n",
       " 215,\n",
       " 28,\n",
       " 77,\n",
       " 52,\n",
       " 5,\n",
       " 14,\n",
       " 407,\n",
       " 16,\n",
       " 82,\n",
       " 10311,\n",
       " 8,\n",
       " 4,\n",
       " 107,\n",
       " 117,\n",
       " 5952,\n",
       " 15,\n",
       " 256,\n",
       " 4,\n",
       " 31050,\n",
       " 7,\n",
       " 3766,\n",
       " 5,\n",
       " 723,\n",
       " 36,\n",
       " 71,\n",
       " 43,\n",
       " 530,\n",
       " 476,\n",
       " 26,\n",
       " 400,\n",
       " 317,\n",
       " 46,\n",
       " 7,\n",
       " 4,\n",
       " 12118,\n",
       " 1029,\n",
       " 13,\n",
       " 104,\n",
       " 88,\n",
       " 4,\n",
       " 381,\n",
       " 15,\n",
       " 297,\n",
       " 98,\n",
       " 32,\n",
       " 2071,\n",
       " 56,\n",
       " 26,\n",
       " 141,\n",
       " 6,\n",
       " 194,\n",
       " 7486,\n",
       " 18,\n",
       " 4,\n",
       " 226,\n",
       " 22,\n",
       " 21,\n",
       " 134,\n",
       " 476,\n",
       " 26,\n",
       " 480,\n",
       " 5,\n",
       " 144,\n",
       " 30,\n",
       " 5535,\n",
       " 18,\n",
       " 51,\n",
       " 36,\n",
       " 28,\n",
       " 224,\n",
       " 92,\n",
       " 25,\n",
       " 104,\n",
       " 4,\n",
       " 226,\n",
       " 65,\n",
       " 16,\n",
       " 38,\n",
       " 1334,\n",
       " 88,\n",
       " 12,\n",
       " 16,\n",
       " 283,\n",
       " 5,\n",
       " 16,\n",
       " 4472,\n",
       " 113,\n",
       " 103,\n",
       " 32,\n",
       " 15,\n",
       " 16,\n",
       " 5345,\n",
       " 19,\n",
       " 178,\n",
       " 32]"
      ]
     },
     "execution_count": 6,
     "metadata": {},
     "output_type": "execute_result"
    }
   ],
   "source": [
    "x_train[0]"
   ]
  },
  {
   "cell_type": "code",
   "execution_count": 7,
   "metadata": {},
   "outputs": [
    {
     "data": {
      "text/plain": [
       "218"
      ]
     },
     "execution_count": 7,
     "metadata": {},
     "output_type": "execute_result"
    }
   ],
   "source": [
    "len(x_train[0])"
   ]
  },
  {
   "cell_type": "code",
   "execution_count": 8,
   "metadata": {},
   "outputs": [
    {
     "data": {
      "text/plain": [
       "array([1, 0, 0, 1, 0])"
      ]
     },
     "execution_count": 8,
     "metadata": {},
     "output_type": "execute_result"
    }
   ],
   "source": [
    "y_train[:5]"
   ]
  },
  {
   "cell_type": "code",
   "execution_count": 9,
   "metadata": {},
   "outputs": [
    {
     "data": {
      "text/plain": [
       "(array([0, 1]), array([12500, 12500]))"
      ]
     },
     "execution_count": 9,
     "metadata": {},
     "output_type": "execute_result"
    }
   ],
   "source": [
    "np.unique(y_train, return_counts=True)"
   ]
  },
  {
   "cell_type": "code",
   "execution_count": 10,
   "metadata": {},
   "outputs": [],
   "source": [
    "word_index = data.get_word_index()\n",
    "# word_index"
   ]
  },
  {
   "cell_type": "code",
   "execution_count": 11,
   "metadata": {},
   "outputs": [
    {
     "data": {
      "text/plain": [
       "88584"
      ]
     },
     "execution_count": 11,
     "metadata": {},
     "output_type": "execute_result"
    }
   ],
   "source": [
    "len(word_index)"
   ]
  },
  {
   "cell_type": "code",
   "execution_count": 12,
   "metadata": {},
   "outputs": [
    {
     "data": {
      "text/plain": [
       "1"
      ]
     },
     "execution_count": 12,
     "metadata": {},
     "output_type": "execute_result"
    }
   ],
   "source": [
    "word_index[\"the\"]"
   ]
  },
  {
   "cell_type": "code",
   "execution_count": 13,
   "metadata": {},
   "outputs": [
    {
     "name": "stdout",
     "output_type": "stream",
     "text": [
      "the\n"
     ]
    }
   ],
   "source": [
    "for chave, valor in word_index.items():\n",
    "    if valor == 1:\n",
    "        print(chave)"
   ]
  },
  {
   "cell_type": "code",
   "execution_count": 14,
   "metadata": {},
   "outputs": [
    {
     "name": "stdout",
     "output_type": "stream",
     "text": [
      "218\n",
      "189\n",
      "141\n",
      "550\n",
      "147\n"
     ]
    }
   ],
   "source": [
    "for review in x_train[:5]:\n",
    "    print(len(review))"
   ]
  },
  {
   "cell_type": "markdown",
   "metadata": {},
   "source": [
    "No contexto de processamento de linguagem natural e análise de dados de texto, como no projeto com o dataset do IMDB, um \"token\" refere-se a uma unidade individual de dados ou palavra. Na tokenização, o texto é dividido em tais unidades (tokens), que podem ser palavras, caracteres ou subpalavras. Este processo é fundamental para transformar o texto bruto em uma forma que os modelos de machine learning podem entender e processar. Por exemplo, uma frase é dividida em palavras ou partes menores, e cada uma dessas partes é tratada como um token único."
   ]
  },
  {
   "cell_type": "markdown",
   "metadata": {},
   "source": [
    "Considere a frase \"Aprendendo processamento de linguagem natural\". Na tokenização, esta frase seria dividida em tokens individuais. Cada palavra representa um token:\n",
    "\n",
    "- Token 1: \"Aprendendo\"\n",
    "- Token 2: \"processamento\"\n",
    "- Token 3: \"de\"\n",
    "- Token 4: \"linguagem\"\n",
    "- Token 5: \"natural\"\n",
    "\n",
    "Neste exemplo, a frase original é decomposta em palavras isoladas, cada uma considerada um token. "
   ]
  },
  {
   "cell_type": "markdown",
   "metadata": {},
   "source": [
    "Um exemplo onde um token não é necessariamente uma palavra pode ser encontrado na tokenização baseada em caracteres ou sílabas. Por exemplo, na frase \"Incrível\", a tokenização por sílabas resultaria nos tokens \"In\", \"crí\", \"vel\". Aqui, cada sílaba é tratada como um token distinto, ao invés de cada palavra inteira. Este tipo de tokenização pode ser útil em tarefas de processamento de linguagem natural que e"
   ]
  },
  {
   "cell_type": "markdown",
   "metadata": {},
   "source": [
    "- PAD é o token usado para preenchimento. Nós preenchemos todas as sequências para o mesmo comprimento, que é o comprimento da sequência mais longa.\n",
    "- START é o token usado para marcar o início de uma sequência.\n",
    "- UNK é o token usado para marcar palavras desconhecidas (palavras que não estão no vocabulário).\n",
    "- UNUSED é o token usado para preencher as posições não utilizadas em uma sequência."
   ]
  },
  {
   "cell_type": "code",
   "execution_count": 15,
   "metadata": {},
   "outputs": [],
   "source": [
    "word_index = {chave: (valor + 3) for chave, valor in word_index.items()}"
   ]
  },
  {
   "cell_type": "code",
   "execution_count": 16,
   "metadata": {},
   "outputs": [],
   "source": [
    "word_index[\"<PAD>\"] = 0\n",
    "word_index[\"<START>\"] = 1\n",
    "word_index[\"<UNK>\"] = 2\n",
    "word_index[\"<UNUSED>\"] = 3\n"
   ]
  },
  {
   "cell_type": "code",
   "execution_count": 17,
   "metadata": {},
   "outputs": [
    {
     "name": "stdout",
     "output_type": "stream",
     "text": [
      "<START>\n"
     ]
    }
   ],
   "source": [
    "for chave, valor in word_index.items():\n",
    "    if valor == 1:\n",
    "        print(chave)"
   ]
  },
  {
   "cell_type": "code",
   "execution_count": 18,
   "metadata": {},
   "outputs": [
    {
     "data": {
      "text/plain": [
       "\"<START> this film was just brilliant casting location scenery story direction everyone's really suited the part they played and you could just imagine being there robert redford's is an amazing actor and now the same being director norman's father came from the same scottish island as myself so i loved the fact there was a real connection with this film the witty remarks throughout the film were great it was just brilliant so much that i bought the film as soon as it was released for retail and would recommend it to everyone to watch and the fly fishing was amazing really cried at the end it was so sad and you know what they say if you cry at a film it must have been good and this definitely was also congratulations to the two little boy's that played the part's of norman and paul they were just brilliant children are often left out of the praising list i think because the stars that play them all grown up are such a big profile for the whole film but these children are amazing and should be praised for what they have done don't you think the whole story was so lovely because it was true and was someone's life after all that was shared with us all\""
      ]
     },
     "execution_count": 18,
     "metadata": {},
     "output_type": "execute_result"
    }
   ],
   "source": [
    "from funcoes_auxiliares import decode_review\n",
    "\n",
    "decode_review(x_train[0], word_index)"
   ]
  },
  {
   "cell_type": "code",
   "execution_count": 19,
   "metadata": {},
   "outputs": [
    {
     "name": "stdout",
     "output_type": "stream",
     "text": [
      "<START> this film was just brilliant casting\n",
      "location scenery story direction everyone's really\n",
      "suited the part they played and you could just\n",
      "imagine being there robert redford's is an amazing\n",
      "actor and now the same being director norman's\n",
      "father came from the same scottish island as\n",
      "myself so i loved the fact there was a real\n",
      "connection with this film the witty remarks\n",
      "throughout the film were great it was just\n",
      "brilliant so much that i bought the film as soon\n",
      "as it was released for retail and would recommend\n",
      "it to everyone to watch and the fly fishing was\n",
      "amazing really cried at the end it was so sad and\n",
      "you know what they say if you cry at a film it\n",
      "must have been good and this definitely was also\n",
      "congratulations to the two little boy's that\n",
      "played the part's of norman and paul they were\n",
      "just brilliant children are often left out of the\n",
      "praising list i think because the stars that play\n",
      "them all grown up are such a big profile for the\n",
      "whole film but these children are amazing and\n",
      "should be praised for what they have done don't\n",
      "you think the whole story was so lovely because it\n",
      "was true and was someone's life after all that was\n",
      "shared with us all\n"
     ]
    }
   ],
   "source": [
    "from funcoes_auxiliares import print_review\n",
    "\n",
    "print_review(decode_review(x_train[0], word_index))\n"
   ]
  },
  {
   "cell_type": "markdown",
   "metadata": {},
   "source": [
    "https://www.tensorflow.org/api_docs/python/tf/keras/utils/pad_sequences"
   ]
  },
  {
   "cell_type": "code",
   "execution_count": 20,
   "metadata": {},
   "outputs": [
    {
     "name": "stdout",
     "output_type": "stream",
     "text": [
      "<START> the scots excel at storytelling the\n",
      "traditional sort many years after the event i can\n",
      "still see in my mind's eye an elderly lady my\n",
      "friend's mother retelling the battle of culloden\n",
      "she makes the characters come alive her passion is\n",
      "that of an eye witness one to the events on the\n",
      "sodden heath a mile or so from where she lives br\n",
      "br of course it happened many years before she was\n",
      "born but you wouldn't guess from the way she tells\n",
      "it the same story is told in bars the length and\n",
      "breadth of scotland as i discussed it with a\n",
      "friend one night in mallaig a local cut in to give\n",
      "his version the discussion continued to closing\n",
      "time br br stories passed down like this become\n",
      "part of our being who doesn't remember the stories\n",
      "our parents told us when we were children they\n",
      "become our invisible world and as we grow older\n",
      "they maybe still serve as inspiration or as an\n",
      "emotional reservoir fact and fiction blend with\n",
      "aspiration role models warning stories archetypes\n",
      "magic and mystery br br my name is aonghas like my\n",
      "grandfather and his grandfather before him our\n",
      "protagonist introduces himself to us and also\n",
      "introduces the story that stretches back through\n",
      "generations it produces stories within stories\n",
      "stories that evoke the impenetrable wonder of\n",
      "scotland its rugged mountains shrouded in mists\n",
      "the stuff of legend yet seach'd is rooted in\n",
      "reality this is what gives it its special charm it\n",
      "has a rough beauty and authenticity tempered with\n",
      "some of the finest gaelic singing you will ever\n",
      "hear br br aonghas angus visits his grandfather in\n",
      "hospital shortly before his death he burns with\n",
      "frustration part of him yearns to be in the twenty\n",
      "first century to hang out in glasgow but he is\n",
      "raised on the western shores among a gaelic\n",
      "speaking community br br yet there is a deeper\n",
      "conflict within him he yearns to know the truth\n",
      "the truth behind his grandfather's ancient stories\n",
      "where does fiction end and he wants to know the\n",
      "truth behind the death of his parents br br he is\n",
      "pulled to make a last fateful journey to the\n",
      "summit of one of scotland's most inaccessible\n",
      "mountains can the truth be told or is it all in\n",
      "stories br br in this story about stories we\n",
      "revisit bloody battles poisoned lovers the\n",
      "folklore of old and the sometimes more treacherous\n",
      "folklore of accepted truth in doing so we each\n",
      "connect with angus as he lives the story of his\n",
      "own life br br seachd the inaccessible pinnacle is\n",
      "probably the most honest unpretentious and\n",
      "genuinely beautiful film of scotland ever made\n",
      "like angus i got slightly annoyed with the pretext\n",
      "of hanging stories on more stories but also like\n",
      "angus i forgave this once i saw the 'bigger\n",
      "picture ' forget the box office pastiche of\n",
      "braveheart and its like you might even forego the\n",
      "justly famous dramatisation of the wicker man to\n",
      "see a film that is true to scotland this one is\n",
      "probably unique if you maybe meditate on it deeply\n",
      "enough you might even re evaluate the power of\n",
      "storytelling and the age old question of whether\n",
      "there are some truths that cannot be told but only\n",
      "experienced\n"
     ]
    }
   ],
   "source": [
    "print_review(decode_review(x_train[3], word_index))"
   ]
  },
  {
   "cell_type": "code",
   "execution_count": 21,
   "metadata": {},
   "outputs": [],
   "source": [
    "x_train = keras.utils.pad_sequences(\n",
    "    x_train,\n",
    "    value=word_index[\"<PAD>\"],\n",
    "    padding=\"post\",\n",
    "    truncating=\"post\",\n",
    "    maxlen=256\n",
    ")\n",
    "\n",
    "x_test = keras.utils.pad_sequences(\n",
    "    x_test,\n",
    "    value=word_index[\"<PAD>\"],\n",
    "    padding=\"post\",\n",
    "    truncating=\"post\",\n",
    "    maxlen=256\n",
    ")\n"
   ]
  },
  {
   "cell_type": "code",
   "execution_count": 22,
   "metadata": {},
   "outputs": [
    {
     "name": "stdout",
     "output_type": "stream",
     "text": [
      "<START> this film was just brilliant casting\n",
      "location scenery story direction everyone's really\n",
      "suited the part they played and you could just\n",
      "imagine being there robert redford's is an amazing\n",
      "actor and now the same being director norman's\n",
      "father came from the same scottish island as\n",
      "myself so i loved the fact there was a real\n",
      "connection with this film the witty remarks\n",
      "throughout the film were great it was just\n",
      "brilliant so much that i bought the film as soon\n",
      "as it was released for retail and would recommend\n",
      "it to everyone to watch and the fly fishing was\n",
      "amazing really cried at the end it was so sad and\n",
      "you know what they say if you cry at a film it\n",
      "must have been good and this definitely was also\n",
      "congratulations to the two little boy's that\n",
      "played the part's of norman and paul they were\n",
      "just brilliant children are often left out of the\n",
      "praising list i think because the stars that play\n",
      "them all grown up are such a big profile for the\n",
      "whole film but these children are amazing and\n",
      "should be praised for what they have done don't\n",
      "you think the whole story was so lovely because it\n",
      "was true and was someone's life after all that was\n",
      "shared with us all <PAD> <PAD> <PAD> <PAD> <PAD>\n",
      "<PAD> <PAD> <PAD> <PAD> <PAD> <PAD> <PAD> <PAD>\n",
      "<PAD> <PAD> <PAD> <PAD> <PAD> <PAD> <PAD> <PAD>\n",
      "<PAD> <PAD> <PAD> <PAD> <PAD> <PAD> <PAD> <PAD>\n",
      "<PAD> <PAD> <PAD> <PAD> <PAD> <PAD> <PAD> <PAD>\n",
      "<PAD>\n"
     ]
    }
   ],
   "source": [
    "print_review(decode_review(x_train[0], word_index))\n"
   ]
  },
  {
   "cell_type": "code",
   "execution_count": 23,
   "metadata": {},
   "outputs": [
    {
     "name": "stdout",
     "output_type": "stream",
     "text": [
      "<START> the scots excel at storytelling the\n",
      "traditional sort many years after the event i can\n",
      "still see in my mind's eye an elderly lady my\n",
      "friend's mother retelling the battle of culloden\n",
      "she makes the characters come alive her passion is\n",
      "that of an eye witness one to the events on the\n",
      "sodden heath a mile or so from where she lives br\n",
      "br of course it happened many years before she was\n",
      "born but you wouldn't guess from the way she tells\n",
      "it the same story is told in bars the length and\n",
      "breadth of scotland as i discussed it with a\n",
      "friend one night in mallaig a local cut in to give\n",
      "his version the discussion continued to closing\n",
      "time br br stories passed down like this become\n",
      "part of our being who doesn't remember the stories\n",
      "our parents told us when we were children they\n",
      "become our invisible world and as we grow older\n",
      "they maybe still serve as inspiration or as an\n",
      "emotional reservoir fact and fiction blend with\n",
      "aspiration role models warning stories archetypes\n",
      "magic and mystery br br my name is aonghas like my\n",
      "grandfather and his grandfather before him our\n",
      "protagonist introduces himself to us and also\n",
      "introduces the story that stretches back through\n",
      "generations it produces stories within stories\n",
      "stories that evoke the impenetrable wonder of\n",
      "scotland its rugged mountains shrouded in mists\n",
      "the stuff of legend yet seach'd is rooted in\n",
      "reality this is what gives it its special charm it\n",
      "has a rough beauty and\n"
     ]
    }
   ],
   "source": [
    "print_review(decode_review(x_train[3], word_index))"
   ]
  },
  {
   "cell_type": "code",
   "execution_count": 24,
   "metadata": {},
   "outputs": [
    {
     "name": "stdout",
     "output_type": "stream",
     "text": [
      "256\n",
      "256\n",
      "256\n",
      "256\n",
      "256\n"
     ]
    }
   ],
   "source": [
    "for review in x_train[:5]:\n",
    "    print(len(review))"
   ]
  },
  {
   "cell_type": "code",
   "execution_count": 25,
   "metadata": {},
   "outputs": [
    {
     "data": {
      "text/plain": [
       "(25000, 256)"
      ]
     },
     "execution_count": 25,
     "metadata": {},
     "output_type": "execute_result"
    }
   ],
   "source": [
    "x_train.shape"
   ]
  },
  {
   "cell_type": "markdown",
   "metadata": {},
   "source": [
    "## Definir modelo Keras"
   ]
  },
  {
   "cell_type": "markdown",
   "metadata": {},
   "source": [
    "https://www.tensorflow.org/api_docs/python/tf/keras/layers/Embedding"
   ]
  },
  {
   "cell_type": "markdown",
   "metadata": {},
   "source": [
    "O Embedding no Keras funciona como um tradutor que transforma números, cada um representando uma palavra, em vetores de números reais em um espaço multidimensional. Cada vetor representa uma palavra de maneira única, capturando nuances de seu significado e relação com outras palavras. Por exemplo, na representação vetorial, palavras com significados semelhantes, como \"feliz\" e \"alegre\", ficarão próximas no espaço vetorial. Esses vetores são aprendidos durante o treinamento do modelo, permitindo que a máquina compreenda e processe textos de maneira mais eficaz. Isso é fundamental em tarefas como análise de sentimentos ou tradução automática, onde a compreensão do contexto e das nuances das palavras é crucial."
   ]
  },
  {
   "cell_type": "markdown",
   "metadata": {},
   "source": [
    "![exemplo.png](../imagens/exemplo.png)"
   ]
  },
  {
   "cell_type": "markdown",
   "metadata": {},
   "source": [
    "### RNNs"
   ]
  },
  {
   "cell_type": "markdown",
   "metadata": {},
   "source": [
    "Uma Rede Neural Recorrente (RNN) é um tipo de rede neural projetada para processar sequências, como dados de séries temporais ou texto. RNNs são únicas porque mantêm uma memória interna de entradas anteriores, permitindo-lhes capturar informações sobre a história da sequência. No entanto, RNNs padrão frequentemente têm dificuldade em aprender dependências de longo alcance devido ao problema do gradiente desaparecendo."
   ]
  },
  {
   "cell_type": "markdown",
   "metadata": {},
   "source": [
    "LSTM, ou Memória de Longo e Curto Prazo, é um tipo especial de RNN que aborda essa questão. Ela inclui mecanismos chamados portões que regulam o fluxo de informações, tornando-a capaz de lembrar e utilizar informações ao longo de sequências muito mais longas. Isso torna as LSTMs mais eficazes para tarefas onde entender o contexto estendido é crucial."
   ]
  },
  {
   "cell_type": "markdown",
   "metadata": {},
   "source": [
    "https://www.tensorflow.org/api_docs/python/tf/keras/layers/LSTM"
   ]
  },
  {
   "cell_type": "code",
   "execution_count": 26,
   "metadata": {},
   "outputs": [
    {
     "data": {
      "text/html": [
       "<pre style=\"white-space:pre;overflow-x:auto;line-height:normal;font-family:Menlo,'DejaVu Sans Mono',consolas,'Courier New',monospace\"><span style=\"font-weight: bold\">Model: \"sequential\"</span>\n",
       "</pre>\n"
      ],
      "text/plain": [
       "\u001b[1mModel: \"sequential\"\u001b[0m\n"
      ]
     },
     "metadata": {},
     "output_type": "display_data"
    },
    {
     "data": {
      "text/html": [
       "<pre style=\"white-space:pre;overflow-x:auto;line-height:normal;font-family:Menlo,'DejaVu Sans Mono',consolas,'Courier New',monospace\">┏━━━━━━━━━━━━━━━━━━━━━━━━━━━━━━━┳━━━━━━━━━━━━━━━━━━━━━━━┳━━━━━━━━━━━━━━┓\n",
       "┃<span style=\"font-weight: bold\"> Layer (type)                  </span>┃<span style=\"font-weight: bold\"> Output Shape          </span>┃<span style=\"font-weight: bold\">      Param # </span>┃\n",
       "┡━━━━━━━━━━━━━━━━━━━━━━━━━━━━━━━╇━━━━━━━━━━━━━━━━━━━━━━━╇━━━━━━━━━━━━━━┩\n",
       "│ embedding (<span style=\"color: #0087ff; text-decoration-color: #0087ff\">Embedding</span>)         │ (<span style=\"color: #00d7ff; text-decoration-color: #00d7ff\">None</span>, <span style=\"color: #00af00; text-decoration-color: #00af00\">256</span>, <span style=\"color: #00af00; text-decoration-color: #00af00\">64</span>)       │    <span style=\"color: #00af00; text-decoration-color: #00af00\">5,669,632</span> │\n",
       "├───────────────────────────────┼───────────────────────┼──────────────┤\n",
       "│ lstm (<span style=\"color: #0087ff; text-decoration-color: #0087ff\">LSTM</span>)                   │ (<span style=\"color: #00d7ff; text-decoration-color: #00d7ff\">None</span>, <span style=\"color: #00af00; text-decoration-color: #00af00\">64</span>)            │       <span style=\"color: #00af00; text-decoration-color: #00af00\">33,024</span> │\n",
       "├───────────────────────────────┼───────────────────────┼──────────────┤\n",
       "│ dense (<span style=\"color: #0087ff; text-decoration-color: #0087ff\">Dense</span>)                 │ (<span style=\"color: #00d7ff; text-decoration-color: #00d7ff\">None</span>, <span style=\"color: #00af00; text-decoration-color: #00af00\">2</span>)             │          <span style=\"color: #00af00; text-decoration-color: #00af00\">130</span> │\n",
       "└───────────────────────────────┴───────────────────────┴──────────────┘\n",
       "</pre>\n"
      ],
      "text/plain": [
       "┏━━━━━━━━━━━━━━━━━━━━━━━━━━━━━━━┳━━━━━━━━━━━━━━━━━━━━━━━┳━━━━━━━━━━━━━━┓\n",
       "┃\u001b[1m \u001b[0m\u001b[1mLayer (type)                 \u001b[0m\u001b[1m \u001b[0m┃\u001b[1m \u001b[0m\u001b[1mOutput Shape         \u001b[0m\u001b[1m \u001b[0m┃\u001b[1m \u001b[0m\u001b[1m     Param #\u001b[0m\u001b[1m \u001b[0m┃\n",
       "┡━━━━━━━━━━━━━━━━━━━━━━━━━━━━━━━╇━━━━━━━━━━━━━━━━━━━━━━━╇━━━━━━━━━━━━━━┩\n",
       "│ embedding (\u001b[38;5;33mEmbedding\u001b[0m)         │ (\u001b[38;5;45mNone\u001b[0m, \u001b[38;5;34m256\u001b[0m, \u001b[38;5;34m64\u001b[0m)       │    \u001b[38;5;34m5,669,632\u001b[0m │\n",
       "├───────────────────────────────┼───────────────────────┼──────────────┤\n",
       "│ lstm (\u001b[38;5;33mLSTM\u001b[0m)                   │ (\u001b[38;5;45mNone\u001b[0m, \u001b[38;5;34m64\u001b[0m)            │       \u001b[38;5;34m33,024\u001b[0m │\n",
       "├───────────────────────────────┼───────────────────────┼──────────────┤\n",
       "│ dense (\u001b[38;5;33mDense\u001b[0m)                 │ (\u001b[38;5;45mNone\u001b[0m, \u001b[38;5;34m2\u001b[0m)             │          \u001b[38;5;34m130\u001b[0m │\n",
       "└───────────────────────────────┴───────────────────────┴──────────────┘\n"
      ]
     },
     "metadata": {},
     "output_type": "display_data"
    },
    {
     "data": {
      "text/html": [
       "<pre style=\"white-space:pre;overflow-x:auto;line-height:normal;font-family:Menlo,'DejaVu Sans Mono',consolas,'Courier New',monospace\"><span style=\"font-weight: bold\"> Total params: </span><span style=\"color: #00af00; text-decoration-color: #00af00\">5,702,786</span> (21.75 MB)\n",
       "</pre>\n"
      ],
      "text/plain": [
       "\u001b[1m Total params: \u001b[0m\u001b[38;5;34m5,702,786\u001b[0m (21.75 MB)\n"
      ]
     },
     "metadata": {},
     "output_type": "display_data"
    },
    {
     "data": {
      "text/html": [
       "<pre style=\"white-space:pre;overflow-x:auto;line-height:normal;font-family:Menlo,'DejaVu Sans Mono',consolas,'Courier New',monospace\"><span style=\"font-weight: bold\"> Trainable params: </span><span style=\"color: #00af00; text-decoration-color: #00af00\">5,702,786</span> (21.75 MB)\n",
       "</pre>\n"
      ],
      "text/plain": [
       "\u001b[1m Trainable params: \u001b[0m\u001b[38;5;34m5,702,786\u001b[0m (21.75 MB)\n"
      ]
     },
     "metadata": {},
     "output_type": "display_data"
    },
    {
     "data": {
      "text/html": [
       "<pre style=\"white-space:pre;overflow-x:auto;line-height:normal;font-family:Menlo,'DejaVu Sans Mono',consolas,'Courier New',monospace\"><span style=\"font-weight: bold\"> Non-trainable params: </span><span style=\"color: #00af00; text-decoration-color: #00af00\">0</span> (0.00 B)\n",
       "</pre>\n"
      ],
      "text/plain": [
       "\u001b[1m Non-trainable params: \u001b[0m\u001b[38;5;34m0\u001b[0m (0.00 B)\n"
      ]
     },
     "metadata": {},
     "output_type": "display_data"
    }
   ],
   "source": [
    "model = keras.Sequential()\n",
    "\n",
    "model.add(keras.layers.InputLayer(shape=(256,)))\n",
    "\n",
    "model.add(keras.layers.Embedding(len(word_index), 64))\n",
    "\n",
    "model.add(keras.layers.LSTM(64))\n",
    "\n",
    "model.add(keras.layers.Dense(2, activation=\"sigmoid\"))\n",
    "\n",
    "model.summary()"
   ]
  },
  {
   "cell_type": "markdown",
   "metadata": {},
   "source": [
    "## Compilar modelo Keras"
   ]
  },
  {
   "cell_type": "code",
   "execution_count": 27,
   "metadata": {},
   "outputs": [],
   "source": [
    "optimizer = keras.optimizers.Adam(1E-4)\n",
    "loss = keras.losses.SparseCategoricalCrossentropy()\n",
    "metric = keras.metrics.SparseCategoricalAccuracy()\n",
    "\n",
    "model.compile(optimizer = optimizer, loss=loss, metrics=[metric])"
   ]
  },
  {
   "cell_type": "markdown",
   "metadata": {},
   "source": [
    "## Fit modelo Keras"
   ]
  },
  {
   "cell_type": "code",
   "execution_count": 28,
   "metadata": {},
   "outputs": [
    {
     "name": "stdout",
     "output_type": "stream",
     "text": [
      "Epoch 1/20\n",
      "\u001b[1m40/40\u001b[0m \u001b[32m━━━━━━━━━━━━━━━━━━━━\u001b[0m\u001b[37m\u001b[0m \u001b[1m21s\u001b[0m 475ms/step - loss: 0.6931 - sparse_categorical_accuracy: 0.5046 - val_loss: 0.6931 - val_sparse_categorical_accuracy: 0.5044\n",
      "Epoch 2/20\n",
      "\u001b[1m40/40\u001b[0m \u001b[32m━━━━━━━━━━━━━━━━━━━━\u001b[0m\u001b[37m\u001b[0m \u001b[1m19s\u001b[0m 472ms/step - loss: 0.6928 - sparse_categorical_accuracy: 0.5112 - val_loss: 0.6930 - val_sparse_categorical_accuracy: 0.5046\n",
      "Epoch 3/20\n",
      "\u001b[1m40/40\u001b[0m \u001b[32m━━━━━━━━━━━━━━━━━━━━\u001b[0m\u001b[37m\u001b[0m \u001b[1m18s\u001b[0m 453ms/step - loss: 0.6925 - sparse_categorical_accuracy: 0.5138 - val_loss: 0.6930 - val_sparse_categorical_accuracy: 0.5044\n",
      "Epoch 4/20\n",
      "\u001b[1m40/40\u001b[0m \u001b[32m━━━━━━━━━━━━━━━━━━━━\u001b[0m\u001b[37m\u001b[0m \u001b[1m16s\u001b[0m 397ms/step - loss: 0.6919 - sparse_categorical_accuracy: 0.5098 - val_loss: 0.6928 - val_sparse_categorical_accuracy: 0.5042\n",
      "Epoch 5/20\n",
      "\u001b[1m40/40\u001b[0m \u001b[32m━━━━━━━━━━━━━━━━━━━━\u001b[0m\u001b[37m\u001b[0m \u001b[1m16s\u001b[0m 410ms/step - loss: 0.6914 - sparse_categorical_accuracy: 0.5166 - val_loss: 0.6924 - val_sparse_categorical_accuracy: 0.5058\n",
      "Epoch 6/20\n",
      "\u001b[1m40/40\u001b[0m \u001b[32m━━━━━━━━━━━━━━━━━━━━\u001b[0m\u001b[37m\u001b[0m \u001b[1m17s\u001b[0m 418ms/step - loss: 0.6900 - sparse_categorical_accuracy: 0.5202 - val_loss: 0.6909 - val_sparse_categorical_accuracy: 0.5174\n",
      "Epoch 7/20\n",
      "\u001b[1m40/40\u001b[0m \u001b[32m━━━━━━━━━━━━━━━━━━━━\u001b[0m\u001b[37m\u001b[0m \u001b[1m17s\u001b[0m 419ms/step - loss: 0.6815 - sparse_categorical_accuracy: 0.5355 - val_loss: 0.6751 - val_sparse_categorical_accuracy: 0.5778\n",
      "Epoch 8/20\n",
      "\u001b[1m40/40\u001b[0m \u001b[32m━━━━━━━━━━━━━━━━━━━━\u001b[0m\u001b[37m\u001b[0m \u001b[1m16s\u001b[0m 402ms/step - loss: 0.6328 - sparse_categorical_accuracy: 0.6414 - val_loss: 0.6431 - val_sparse_categorical_accuracy: 0.7526\n",
      "Epoch 9/20\n",
      "\u001b[1m40/40\u001b[0m \u001b[32m━━━━━━━━━━━━━━━━━━━━\u001b[0m\u001b[37m\u001b[0m \u001b[1m16s\u001b[0m 405ms/step - loss: 0.6064 - sparse_categorical_accuracy: 0.7694 - val_loss: 0.5187 - val_sparse_categorical_accuracy: 0.7732\n",
      "Epoch 10/20\n",
      "\u001b[1m40/40\u001b[0m \u001b[32m━━━━━━━━━━━━━━━━━━━━\u001b[0m\u001b[37m\u001b[0m \u001b[1m17s\u001b[0m 424ms/step - loss: 0.4850 - sparse_categorical_accuracy: 0.8006 - val_loss: 0.4798 - val_sparse_categorical_accuracy: 0.8136\n",
      "Epoch 11/20\n",
      "\u001b[1m40/40\u001b[0m \u001b[32m━━━━━━━━━━━━━━━━━━━━\u001b[0m\u001b[37m\u001b[0m \u001b[1m15s\u001b[0m 386ms/step - loss: 0.4200 - sparse_categorical_accuracy: 0.8592 - val_loss: 0.4499 - val_sparse_categorical_accuracy: 0.8298\n",
      "Epoch 12/20\n",
      "\u001b[1m40/40\u001b[0m \u001b[32m━━━━━━━━━━━━━━━━━━━━\u001b[0m\u001b[37m\u001b[0m \u001b[1m16s\u001b[0m 389ms/step - loss: 0.3716 - sparse_categorical_accuracy: 0.8777 - val_loss: 0.4385 - val_sparse_categorical_accuracy: 0.8326\n",
      "Epoch 13/20\n",
      "\u001b[1m40/40\u001b[0m \u001b[32m━━━━━━━━━━━━━━━━━━━━\u001b[0m\u001b[37m\u001b[0m \u001b[1m20s\u001b[0m 385ms/step - loss: 0.3540 - sparse_categorical_accuracy: 0.8831 - val_loss: 0.4160 - val_sparse_categorical_accuracy: 0.8408\n",
      "Epoch 14/20\n",
      "\u001b[1m40/40\u001b[0m \u001b[32m━━━━━━━━━━━━━━━━━━━━\u001b[0m\u001b[37m\u001b[0m \u001b[1m15s\u001b[0m 378ms/step - loss: 0.3135 - sparse_categorical_accuracy: 0.9036 - val_loss: 0.3995 - val_sparse_categorical_accuracy: 0.8484\n",
      "Epoch 15/20\n",
      "\u001b[1m40/40\u001b[0m \u001b[32m━━━━━━━━━━━━━━━━━━━━\u001b[0m\u001b[37m\u001b[0m \u001b[1m15s\u001b[0m 371ms/step - loss: 0.2833 - sparse_categorical_accuracy: 0.9199 - val_loss: 0.4472 - val_sparse_categorical_accuracy: 0.8344\n",
      "Epoch 16/20\n",
      "\u001b[1m40/40\u001b[0m \u001b[32m━━━━━━━━━━━━━━━━━━━━\u001b[0m\u001b[37m\u001b[0m \u001b[1m15s\u001b[0m 377ms/step - loss: 0.2707 - sparse_categorical_accuracy: 0.9202 - val_loss: 0.3976 - val_sparse_categorical_accuracy: 0.8526\n",
      "Epoch 17/20\n",
      "\u001b[1m40/40\u001b[0m \u001b[32m━━━━━━━━━━━━━━━━━━━━\u001b[0m\u001b[37m\u001b[0m \u001b[1m15s\u001b[0m 385ms/step - loss: 0.2339 - sparse_categorical_accuracy: 0.9322 - val_loss: 0.4173 - val_sparse_categorical_accuracy: 0.8454\n",
      "Epoch 18/20\n",
      "\u001b[1m40/40\u001b[0m \u001b[32m━━━━━━━━━━━━━━━━━━━━\u001b[0m\u001b[37m\u001b[0m \u001b[1m15s\u001b[0m 382ms/step - loss: 0.2312 - sparse_categorical_accuracy: 0.9317 - val_loss: 0.3768 - val_sparse_categorical_accuracy: 0.8558\n",
      "Epoch 19/20\n",
      "\u001b[1m40/40\u001b[0m \u001b[32m━━━━━━━━━━━━━━━━━━━━\u001b[0m\u001b[37m\u001b[0m \u001b[1m15s\u001b[0m 381ms/step - loss: 0.1854 - sparse_categorical_accuracy: 0.9497 - val_loss: 0.3766 - val_sparse_categorical_accuracy: 0.8570\n",
      "Epoch 20/20\n",
      "\u001b[1m40/40\u001b[0m \u001b[32m━━━━━━━━━━━━━━━━━━━━\u001b[0m\u001b[37m\u001b[0m \u001b[1m16s\u001b[0m 405ms/step - loss: 0.1820 - sparse_categorical_accuracy: 0.9495 - val_loss: 0.3648 - val_sparse_categorical_accuracy: 0.8598\n"
     ]
    }
   ],
   "source": [
    "history = model.fit(\n",
    "    x_train,\n",
    "    y_train,\n",
    "    epochs=20,\n",
    "    batch_size=512,\n",
    "    validation_split=0.2,\n",
    "    verbose=1\n",
    ")"
   ]
  },
  {
   "cell_type": "markdown",
   "metadata": {},
   "source": [
    "## Evaluate modelo Keras"
   ]
  },
  {
   "cell_type": "code",
   "execution_count": 29,
   "metadata": {},
   "outputs": [
    {
     "name": "stdout",
     "output_type": "stream",
     "text": [
      "\u001b[1m782/782\u001b[0m \u001b[32m━━━━━━━━━━━━━━━━━━━━\u001b[0m\u001b[37m\u001b[0m \u001b[1m14s\u001b[0m 17ms/step - loss: 0.4244 - sparse_categorical_accuracy: 0.8304\n"
     ]
    },
    {
     "data": {
      "text/plain": [
       "[0.4266742467880249, 0.8290799856185913]"
      ]
     },
     "execution_count": 29,
     "metadata": {},
     "output_type": "execute_result"
    }
   ],
   "source": [
    "model.evaluate(x_test, y_test)"
   ]
  },
  {
   "cell_type": "markdown",
   "metadata": {},
   "source": [
    "## Predict modelo Keras"
   ]
  },
  {
   "cell_type": "code",
   "execution_count": 30,
   "metadata": {},
   "outputs": [
    {
     "data": {
      "image/png": "[encoded data removed]",
      "text/plain": [
       "<Figure size 640x480 with 1 Axes>"
      ]
     },
     "metadata": {},
     "output_type": "display_data"
    }
   ],
   "source": [
    "plt.plot(history.history[\"loss\"], label=\"loss\")\n",
    "plt.plot(history.history[\"val_loss\"], label=\"val_loss\")\n",
    "plt.legend()\n",
    "plt.show()"
   ]
  },
  {
   "cell_type": "code",
   "execution_count": 31,
   "metadata": {},
   "outputs": [
    {
     "data": {
      "image/png": "[encoded data removed]",
      "text/plain": [
       "<Figure size 640x480 with 1 Axes>"
      ]
     },
     "metadata": {},
     "output_type": "display_data"
    }
   ],
   "source": [
    "plt.plot(history.history[\"sparse_categorical_accuracy\"], label=\"accuracy\")\n",
    "plt.plot(history.history[\"val_sparse_categorical_accuracy\"], label=\"val_accuracy\")\n",
    "plt.legend()\n",
    "plt.show()"
   ]
  },
  {
   "cell_type": "code",
   "execution_count": 32,
   "metadata": {},
   "outputs": [
    {
     "name": "stdout",
     "output_type": "stream",
     "text": [
      "Label: 0\n",
      "Prediction (sigmoid):  [0.84810126 0.11223464]\n",
      "Prediction:  0\n",
      "\n",
      "Label: 1\n",
      "Prediction (sigmoid):  [0.19600411 0.84968555]\n",
      "Prediction:  1\n",
      "\n",
      "Label: 1\n",
      "Prediction (sigmoid):  [0.22596762 0.81650424]\n",
      "Prediction:  1\n",
      "\n",
      "Label: 0\n",
      "Prediction (sigmoid):  [0.3665296 0.6642864]\n",
      "Prediction:  1\n",
      "\n",
      "Label: 1\n",
      "Prediction (sigmoid):  [0.18386096 0.8622603 ]\n",
      "Prediction:  1\n",
      "\n",
      "Label: 1\n",
      "Prediction (sigmoid):  [0.61612093 0.38649616]\n",
      "Prediction:  0\n",
      "\n",
      "Label: 1\n",
      "Prediction (sigmoid):  [0.45493865 0.55655396]\n",
      "Prediction:  1\n",
      "\n",
      "Label: 0\n",
      "Prediction (sigmoid):  [0.84829503 0.11195046]\n",
      "Prediction:  0\n",
      "\n",
      "Label: 0\n",
      "Prediction (sigmoid):  [0.1950324 0.850935 ]\n",
      "Prediction:  1\n",
      "\n",
      "Label: 1\n",
      "Prediction (sigmoid):  [0.35872674 0.6683686 ]\n",
      "Prediction:  1\n",
      "\n"
     ]
    }
   ],
   "source": [
    "for i in range(10):\n",
    "    # print_review(decode_review(x_test[i], word_index), width=80)\n",
    "    print(\"Label:\", y_test[i])\n",
    "    print(\"Prediction (sigmoid): \", model.predict(np.expand_dims(x_test[i], axis=0), verbose=0).flatten())\n",
    "    print(\"Prediction: \", np.argmax(model.predict(np.expand_dims(x_test[i], axis=0), verbose=0)))\n",
    "\n",
    "    print()"
   ]
  },
  {
   "cell_type": "code",
   "execution_count": 33,
   "metadata": {},
   "outputs": [
    {
     "name": "stdout",
     "output_type": "stream",
     "text": [
      "<START> hollywood had a long love affair with bogus arabian nights tales but few\n",
      "of these products have stood the test of time the most memorable were the jon\n",
      "hall maria montez films which have long since become camp this one is filled\n",
      "with dubbed songs anachronistic slang and slapstick it's a truly crop of corn\n",
      "and pretty near intolerable today it was nominated for its imaginative special\n",
      "effects which are almost unnoticeable in this day and age consisting mainly of\n",
      "trick photography the only outstanding positive feature which survives is its\n",
      "beautiful color and clarity sad to say of the many films made in this genre few\n",
      "of them come up to alexander korda's original thief of baghdad almost any other\n",
      "arabian nights film is superior to this one though it's a loser <PAD> <PAD>\n",
      "<PAD> <PAD> <PAD> <PAD> <PAD> <PAD> <PAD> <PAD> <PAD> <PAD> <PAD> <PAD> <PAD>\n",
      "<PAD> <PAD> <PAD> <PAD> <PAD> <PAD> <PAD> <PAD> <PAD> <PAD> <PAD> <PAD> <PAD>\n",
      "<PAD> <PAD> <PAD> <PAD> <PAD> <PAD> <PAD> <PAD> <PAD> <PAD> <PAD> <PAD> <PAD>\n",
      "<PAD> <PAD> <PAD> <PAD> <PAD> <PAD> <PAD> <PAD> <PAD> <PAD> <PAD> <PAD> <PAD>\n",
      "<PAD> <PAD> <PAD> <PAD> <PAD> <PAD> <PAD> <PAD> <PAD> <PAD> <PAD> <PAD> <PAD>\n",
      "<PAD> <PAD> <PAD> <PAD> <PAD> <PAD> <PAD> <PAD> <PAD> <PAD> <PAD> <PAD> <PAD>\n",
      "<PAD> <PAD> <PAD> <PAD> <PAD> <PAD> <PAD> <PAD> <PAD> <PAD> <PAD> <PAD> <PAD>\n",
      "<PAD> <PAD> <PAD> <PAD> <PAD> <PAD> <PAD> <PAD> <PAD> <PAD> <PAD> <PAD> <PAD>\n",
      "<PAD> <PAD> <PAD> <PAD> <PAD> <PAD> <PAD> <PAD> <PAD> <PAD> <PAD> <PAD> <PAD>\n",
      "<PAD> <PAD> <PAD>\n"
     ]
    }
   ],
   "source": [
    "print_review(decode_review(x_test[8], word_index), width=80)"
   ]
  },
  {
   "cell_type": "markdown",
   "metadata": {},
   "source": [
    "## Inserindo nossos reviews no modelo"
   ]
  },
  {
   "cell_type": "code",
   "execution_count": 34,
   "metadata": {},
   "outputs": [
    {
     "name": "stdout",
     "output_type": "stream",
     "text": [
      "The Grand Adventure is an absolute masterpiece!\n",
      "From the breathtaking cinematography to the deeply\n",
      "moving performances, this film captures the\n",
      "essence of storytelling at its finest. The script\n",
      "is beautifully written, with emotional depth and\n",
      "sharp dialogue that keeps you engaged from start\n",
      "to finish. The lead actor delivers a career\n",
      "defining performance, making every moment feel\n",
      "real and heartfelt. The soundtrack perfectly\n",
      "complements the visuals, adding another layer of\n",
      "immersion. If you're looking for a movie that\n",
      "inspires, entertains, and stays with you long\n",
      "after the credits roll, this is it. A must watch!\n"
     ]
    }
   ],
   "source": [
    "positive_review = \"The Grand Adventure is an absolute masterpiece! From the breathtaking cinematography to the deeply moving performances, this film captures the essence of storytelling at its finest. The script is beautifully written, with emotional depth and sharp dialogue that keeps you engaged from start to finish. The lead actor delivers a career defining performance, making every moment feel real and heartfelt. The soundtrack perfectly complements the visuals, adding another layer of immersion. If you're looking for a movie that inspires, entertains, and stays with you long after the credits roll, this is it. A must watch!\"\n",
    "\n",
    "print_review(positive_review)"
   ]
  },
  {
   "cell_type": "code",
   "execution_count": 35,
   "metadata": {},
   "outputs": [
    {
     "name": "stdout",
     "output_type": "stream",
     "text": [
      "Echoes of Tomorrow is a breathtaking cinematic\n",
      "experience that masterfully blends emotion,\n",
      "mystery, and stunning visuals. The storytelling is\n",
      "captivating, keeping you on the edge of your seat\n",
      "with unexpected twists and deeply relatable\n",
      "characters. The directors vision is evident in\n",
      "every beautifully crafted scene, and the\n",
      "performances are nothing short of outstanding. The\n",
      "soundtrack enhances every moment, making it an\n",
      "emotional rollercoaster that lingers in your mind\n",
      "long after the credits roll. This is a must see\n",
      "for anyone who loves thought provoking,\n",
      "beautifully executed films.\n"
     ]
    }
   ],
   "source": [
    "positive_review2 = \"Echoes of Tomorrow is a breathtaking cinematic experience that masterfully blends emotion, mystery, and stunning visuals. The storytelling is captivating, keeping you on the edge of your seat with unexpected twists and deeply relatable characters. The directors vision is evident in every beautifully crafted scene, and the performances are nothing short of outstanding. The soundtrack enhances every moment, making it an emotional rollercoaster that lingers in your mind long after the credits roll. This is a must see for anyone who loves thought provoking, beautifully executed films.\"\n",
    "\n",
    "print_review(positive_review2)"
   ]
  },
  {
   "cell_type": "code",
   "execution_count": 36,
   "metadata": {},
   "outputs": [
    {
     "name": "stdout",
     "output_type": "stream",
     "text": [
      "The Grand Adventure is a disappointing mess that\n",
      "fails to deliver on its promising premise. The\n",
      "pacing is painfully slow, dragging on with\n",
      "unnecessary scenes that add nothing to the plot.\n",
      "The characters are one dimensional, and their\n",
      "motivations feel forced rather than organic. While\n",
      "the cinematography is decent, it's not enough to\n",
      "save the film from its predictable and uninspired\n",
      "storyline. Even the performances feel lackluster,\n",
      "as if the actors themselves weren’t convinced by\n",
      "the script. Overall, this is a forgettable\n",
      "experience that lacks the emotional impact it\n",
      "desperately tries to achieve. Skip it.\n"
     ]
    }
   ],
   "source": [
    "negative_review = \"The Grand Adventure is a disappointing mess that fails to deliver on its promising premise. The pacing is painfully slow, dragging on with unnecessary scenes that add nothing to the plot. The characters are one dimensional, and their motivations feel forced rather than organic. While the cinematography is decent, it's not enough to save the film from its predictable and uninspired storyline. Even the performances feel lackluster, as if the actors themselves weren’t convinced by the script. Overall, this is a forgettable experience that lacks the emotional impact it desperately tries to achieve. Skip it.\"\n",
    "\n",
    "print_review(negative_review)"
   ]
  },
  {
   "cell_type": "code",
   "execution_count": 37,
   "metadata": {},
   "outputs": [
    {
     "name": "stdout",
     "output_type": "stream",
     "text": [
      "The Grand Adventure is a disappointing mess that\n",
      "fails to deliver on its promising premise. The\n",
      "pacing is painfully slow, dragging on with\n",
      "unnecessary scenes that add nothing to the plot.\n",
      "The characters are one dimensional, and their\n",
      "motivations feel forced rather than organic. While\n",
      "the cinematography is decent, it's not enough to\n",
      "save the film from its predictable and uninspired\n",
      "storyline. Even the performances feel lackluster,\n",
      "as if the actors themselves weren’t convinced by\n",
      "the script. Overall, this is a forgettable\n",
      "experience that lacks the emotional impact it\n",
      "desperately tries to achieve. Skip it.\n"
     ]
    }
   ],
   "source": [
    "negative_review2 = \"Echoes of Tomorrow tries to be profound but ends up feeling pretentious and hollow. The pacing is inconsistent, with long, drawn out scenes that add little to the overall narrative. The characters lack depth, making it difficult to truly connect with their struggles. While the cinematography is visually appealing, it feels like style over substance, with the film relying too much on aesthetics rather than a compelling story. The so called twists are predictable, and by the end, it feels like a wasted two hours. Definitely not worth the hype.\"\n",
    "\n",
    "print_review(negative_review)"
   ]
  },
  {
   "cell_type": "code",
   "execution_count": 38,
   "metadata": {},
   "outputs": [
    {
     "data": {
      "text/plain": [
       "[4,\n",
       " 1758,\n",
       " 1154,\n",
       " 9,\n",
       " 35,\n",
       " 1557,\n",
       " 991,\n",
       " 39,\n",
       " 4,\n",
       " 2877,\n",
       " 627,\n",
       " 8,\n",
       " 4,\n",
       " 1685,\n",
       " 728,\n",
       " 354,\n",
       " 14,\n",
       " 22,\n",
       " 2346,\n",
       " 4,\n",
       " 3320,\n",
       " 7,\n",
       " 2804,\n",
       " 33,\n",
       " 94,\n",
       " 1885,\n",
       " 4,\n",
       " 229,\n",
       " 9,\n",
       " 1293,\n",
       " 398,\n",
       " 19,\n",
       " 921,\n",
       " 1137,\n",
       " 5,\n",
       " 2455,\n",
       " 414,\n",
       " 15,\n",
       " 941,\n",
       " 25,\n",
       " 3953,\n",
       " 39,\n",
       " 380,\n",
       " 8,\n",
       " 1363,\n",
       " 4,\n",
       " 485,\n",
       " 284,\n",
       " 1545,\n",
       " 6,\n",
       " 611,\n",
       " 7827,\n",
       " 239,\n",
       " 231,\n",
       " 175,\n",
       " 561,\n",
       " 235,\n",
       " 147,\n",
       " 5,\n",
       " 5348,\n",
       " 4,\n",
       " 816,\n",
       " 950,\n",
       " 16231,\n",
       " 4,\n",
       " 2057,\n",
       " 2893,\n",
       " 160,\n",
       " 11236,\n",
       " 7,\n",
       " 19150,\n",
       " 48,\n",
       " 45401,\n",
       " 267,\n",
       " 18,\n",
       " 6,\n",
       " 20,\n",
       " 15,\n",
       " 10101,\n",
       " 8583,\n",
       " 5,\n",
       " 2677,\n",
       " 19,\n",
       " 25,\n",
       " 196,\n",
       " 103,\n",
       " 4,\n",
       " 898,\n",
       " 1686,\n",
       " 14,\n",
       " 9,\n",
       " 12,\n",
       " 6,\n",
       " 215,\n",
       " 106]"
      ]
     },
     "execution_count": 38,
     "metadata": {},
     "output_type": "execute_result"
    }
   ],
   "source": [
    "from funcoes_auxiliares import encode_review\n",
    "\n",
    "encode_review(positive_review, word_index)"
   ]
  },
  {
   "cell_type": "code",
   "execution_count": 39,
   "metadata": {},
   "outputs": [
    {
     "data": {
      "text/plain": [
       "'the grand adventure is an absolute masterpiece from the breathtaking cinematography to the deeply moving performances this film captures the essence of storytelling at its finest the script is beautifully written with emotional depth and sharp dialogue that keeps you engaged from start to finish the lead actor delivers a career defining performance making every moment feel real and heartfelt the soundtrack perfectly complements the visuals adding another layer of immersion if youre looking for a movie that inspires entertains and stays with you long after the credits roll this is it a must watch'"
      ]
     },
     "execution_count": 39,
     "metadata": {},
     "output_type": "execute_result"
    }
   ],
   "source": [
    "decode_review(encode_review(positive_review, word_index), word_index)\n"
   ]
  },
  {
   "cell_type": "code",
   "execution_count": 40,
   "metadata": {},
   "outputs": [
    {
     "data": {
      "text/plain": [
       "'echoes of tomorrow is a breathtaking cinematic experience that masterfully blends emotion mystery and stunning visuals the storytelling is captivating keeping you on the edge of your seat with unexpected twists and deeply relatable characters the directors vision is evident in every beautifully crafted scene and the performances are nothing short of outstanding the soundtrack enhances every moment making it an emotional rollercoaster that lingers in your mind long after the credits roll this is a must see for anyone who loves thought provoking beautifully executed films'"
      ]
     },
     "execution_count": 40,
     "metadata": {},
     "output_type": "execute_result"
    }
   ],
   "source": [
    "decode_review(encode_review(positive_review2, word_index), word_index)\n"
   ]
  },
  {
   "cell_type": "code",
   "execution_count": 41,
   "metadata": {},
   "outputs": [
    {
     "data": {
      "text/plain": [
       "'the grand adventure is a disappointing mess that fails to deliver on its promising premise the pacing is painfully slow dragging on with unnecessary scenes that add nothing to the plot the characters are one dimensional and their motivations feel forced rather than organic while the cinematography is decent its not enough to save the film from its predictable and uninspired storyline even the performances feel lackluster as if the actors themselves <UNK> convinced by the script overall this is a forgettable experience that lacks the emotional impact it desperately tries to achieve skip it'"
      ]
     },
     "execution_count": 41,
     "metadata": {},
     "output_type": "execute_result"
    }
   ],
   "source": [
    "decode_review(encode_review(negative_review, word_index), word_index)\n"
   ]
  },
  {
   "cell_type": "code",
   "execution_count": 42,
   "metadata": {},
   "outputs": [
    {
     "data": {
      "text/plain": [
       "'echoes of tomorrow tries to be profound but ends up feeling pretentious and hollow the pacing is inconsistent with long drawn out scenes that add little to the overall narrative the characters lack depth making it difficult to truly connect with their struggles while the cinematography is visually appealing it feels like style over substance with the film relying too much on aesthetics rather than a compelling story the so called twists are predictable and by the end it feels like a wasted two hours definitely not worth the hype'"
      ]
     },
     "execution_count": 42,
     "metadata": {},
     "output_type": "execute_result"
    }
   ],
   "source": [
    "decode_review(encode_review(negative_review2, word_index), word_index)\n"
   ]
  },
  {
   "cell_type": "markdown",
   "metadata": {},
   "source": [
    "## Realizando o predict dos reviews criados"
   ]
  },
  {
   "cell_type": "code",
   "execution_count": 43,
   "metadata": {},
   "outputs": [],
   "source": [
    "positive_review = keras.utils.pad_sequences(\n",
    "    [encode_review(positive_review, word_index)],\n",
    "    value=word_index[\"<PAD>\"],\n",
    "    padding=\"post\",\n",
    "    truncating=\"post\",\n",
    "    maxlen=256\n",
    ")\n",
    "\n",
    "negative_review = keras.utils.pad_sequences(\n",
    "    [encode_review(negative_review, word_index)],\n",
    "    value=word_index[\"<PAD>\"],\n",
    "    padding=\"post\",\n",
    "    truncating=\"post\",\n",
    "    maxlen=256\n",
    ")"
   ]
  },
  {
   "cell_type": "code",
   "execution_count": 44,
   "metadata": {},
   "outputs": [
    {
     "data": {
      "text/plain": [
       "array([[    4,  1758,  1154,     9,    35,  1557,   991,    39,     4,\n",
       "         2877,   627,     8,     4,  1685,   728,   354,    14,    22,\n",
       "         2346,     4,  3320,     7,  2804,    33,    94,  1885,     4,\n",
       "          229,     9,  1293,   398,    19,   921,  1137,     5,  2455,\n",
       "          414,    15,   941,    25,  3953,    39,   380,     8,  1363,\n",
       "            4,   485,   284,  1545,     6,   611,  7827,   239,   231,\n",
       "          175,   561,   235,   147,     5,  5348,     4,   816,   950,\n",
       "        16231,     4,  2057,  2893,   160, 11236,     7, 19150,    48,\n",
       "        45401,   267,    18,     6,    20,    15, 10101,  8583,     5,\n",
       "         2677,    19,    25,   196,   103,     4,   898,  1686,    14,\n",
       "            9,    12,     6,   215,   106,     0,     0,     0,     0,\n",
       "            0,     0,     0,     0,     0,     0,     0,     0,     0,\n",
       "            0,     0,     0,     0,     0,     0,     0,     0,     0,\n",
       "            0,     0,     0,     0,     0,     0,     0,     0,     0,\n",
       "            0,     0,     0,     0,     0,     0,     0,     0,     0,\n",
       "            0,     0,     0,     0,     0,     0,     0,     0,     0,\n",
       "            0,     0,     0,     0,     0,     0,     0,     0,     0,\n",
       "            0,     0,     0,     0,     0,     0,     0,     0,     0,\n",
       "            0,     0,     0,     0,     0,     0,     0,     0,     0,\n",
       "            0,     0,     0,     0,     0,     0,     0,     0,     0,\n",
       "            0,     0,     0,     0,     0,     0,     0,     0,     0,\n",
       "            0,     0,     0,     0,     0,     0,     0,     0,     0,\n",
       "            0,     0,     0,     0,     0,     0,     0,     0,     0,\n",
       "            0,     0,     0,     0,     0,     0,     0,     0,     0,\n",
       "            0,     0,     0,     0,     0,     0,     0,     0,     0,\n",
       "            0,     0,     0,     0,     0,     0,     0,     0,     0,\n",
       "            0,     0,     0,     0,     0,     0,     0,     0,     0,\n",
       "            0,     0,     0,     0,     0,     0,     0,     0,     0,\n",
       "            0,     0,     0,     0]], dtype=int32)"
      ]
     },
     "execution_count": 44,
     "metadata": {},
     "output_type": "execute_result"
    }
   ],
   "source": [
    "positive_review"
   ]
  },
  {
   "cell_type": "code",
   "execution_count": 45,
   "metadata": {},
   "outputs": [
    {
     "data": {
      "text/plain": [
       "array([[    4,  1758,  1154,     9,     6,  1332,   947,    15,   996,\n",
       "            8,  1645,    23,    94,  2428,   863,     4,  1794,     9,\n",
       "         2149,   550,  8056,    23,    19,  1744,   139,    15,   763,\n",
       "          164,     8,     4,   114,     4,   105,    26,    31,  2044,\n",
       "            5,    68,  4484,   235,   918,   247,    74, 11068,   137,\n",
       "            4,   627,     9,   542,    94,    24,   195,     8,   607,\n",
       "            4,    22,    39,    94,   727,     5,  3658,   769,    60,\n",
       "            4,   354,   235,  5132,    17,    48,     4,   156,   533,\n",
       "            2,  2347,    34,     4,   229,   444,    14,     9,     6,\n",
       "         2441,   585,    15,  1503,     4,   921,  1488,    12,  2724,\n",
       "          497,     8,  2715,  1771,    12,     0,     0,     0,     0,\n",
       "            0,     0,     0,     0,     0,     0,     0,     0,     0,\n",
       "            0,     0,     0,     0,     0,     0,     0,     0,     0,\n",
       "            0,     0,     0,     0,     0,     0,     0,     0,     0,\n",
       "            0,     0,     0,     0,     0,     0,     0,     0,     0,\n",
       "            0,     0,     0,     0,     0,     0,     0,     0,     0,\n",
       "            0,     0,     0,     0,     0,     0,     0,     0,     0,\n",
       "            0,     0,     0,     0,     0,     0,     0,     0,     0,\n",
       "            0,     0,     0,     0,     0,     0,     0,     0,     0,\n",
       "            0,     0,     0,     0,     0,     0,     0,     0,     0,\n",
       "            0,     0,     0,     0,     0,     0,     0,     0,     0,\n",
       "            0,     0,     0,     0,     0,     0,     0,     0,     0,\n",
       "            0,     0,     0,     0,     0,     0,     0,     0,     0,\n",
       "            0,     0,     0,     0,     0,     0,     0,     0,     0,\n",
       "            0,     0,     0,     0,     0,     0,     0,     0,     0,\n",
       "            0,     0,     0,     0,     0,     0,     0,     0,     0,\n",
       "            0,     0,     0,     0,     0,     0,     0,     0,     0,\n",
       "            0,     0,     0,     0,     0,     0,     0,     0,     0,\n",
       "            0,     0,     0,     0]], dtype=int32)"
      ]
     },
     "execution_count": 45,
     "metadata": {},
     "output_type": "execute_result"
    }
   ],
   "source": [
    "negative_review"
   ]
  },
  {
   "cell_type": "code",
   "execution_count": 46,
   "metadata": {},
   "outputs": [
    {
     "name": "stdout",
     "output_type": "stream",
     "text": [
      "\u001b[1m1/1\u001b[0m \u001b[32m━━━━━━━━━━━━━━━━━━━━\u001b[0m\u001b[37m\u001b[0m \u001b[1m0s\u001b[0m 37ms/step\n"
     ]
    },
    {
     "data": {
      "text/plain": [
       "array([[0.18344593, 0.86267745]], dtype=float32)"
      ]
     },
     "execution_count": 46,
     "metadata": {},
     "output_type": "execute_result"
    }
   ],
   "source": [
    "model.predict(positive_review)"
   ]
  },
  {
   "cell_type": "code",
   "execution_count": 47,
   "metadata": {},
   "outputs": [
    {
     "name": "stdout",
     "output_type": "stream",
     "text": [
      "\u001b[1m1/1\u001b[0m \u001b[32m━━━━━━━━━━━━━━━━━━━━\u001b[0m\u001b[37m\u001b[0m \u001b[1m0s\u001b[0m 34ms/step\n"
     ]
    },
    {
     "data": {
      "text/plain": [
       "array([[0.8502502 , 0.10905495]], dtype=float32)"
      ]
     },
     "execution_count": 47,
     "metadata": {},
     "output_type": "execute_result"
    }
   ],
   "source": [
    "model.predict(negative_review)"
   ]
  },
  {
   "cell_type": "code",
   "execution_count": 48,
   "metadata": {},
   "outputs": [],
   "source": [
    "positive_review2 = keras.utils.pad_sequences(\n",
    "    [encode_review(positive_review2, word_index)],\n",
    "    value=word_index[\"<PAD>\"],\n",
    "    padding=\"post\",\n",
    "    truncating=\"post\",\n",
    "    maxlen=256\n",
    ")\n",
    "\n",
    "negative_review2 = keras.utils.pad_sequences(\n",
    "    [encode_review(negative_review2, word_index)],\n",
    "    value=word_index[\"<PAD>\"],\n",
    "    padding=\"post\",\n",
    "    truncating=\"post\",\n",
    "    maxlen=256\n",
    ")"
   ]
  },
  {
   "cell_type": "code",
   "execution_count": 49,
   "metadata": {},
   "outputs": [
    {
     "name": "stdout",
     "output_type": "stream",
     "text": [
      "\u001b[1m1/1\u001b[0m \u001b[32m━━━━━━━━━━━━━━━━━━━━\u001b[0m\u001b[37m\u001b[0m \u001b[1m0s\u001b[0m 32ms/step\n"
     ]
    },
    {
     "data": {
      "text/plain": [
       "array([[0.18342441, 0.86269915]], dtype=float32)"
      ]
     },
     "execution_count": 49,
     "metadata": {},
     "output_type": "execute_result"
    }
   ],
   "source": [
    "model.predict(positive_review2)\n"
   ]
  },
  {
   "cell_type": "code",
   "execution_count": 50,
   "metadata": {},
   "outputs": [
    {
     "name": "stdout",
     "output_type": "stream",
     "text": [
      "\u001b[1m1/1\u001b[0m \u001b[32m━━━━━━━━━━━━━━━━━━━━\u001b[0m\u001b[37m\u001b[0m \u001b[1m0s\u001b[0m 37ms/step\n"
     ]
    },
    {
     "data": {
      "text/plain": [
       "array([[0.8406234 , 0.12299268]], dtype=float32)"
      ]
     },
     "execution_count": 50,
     "metadata": {},
     "output_type": "execute_result"
    }
   ],
   "source": [
    "model.predict(negative_review2)\n"
   ]
  }
 ],
 "metadata": {
  "kernelspec": {
   "display_name": "Python 3 (ipykernel)",
   "language": "python",
   "name": "python3"
  },
  "language_info": {
   "codemirror_mode": {
    "name": "ipython",
    "version": 3
   },
   "file_extension": ".py",
   "mimetype": "text/x-python",
   "name": "python",
   "nbconvert_exporter": "python",
   "pygments_lexer": "ipython3",
   "version": "3.12.5"
  }
 },
 "nbformat": 4,
 "nbformat_minor": 4
}
