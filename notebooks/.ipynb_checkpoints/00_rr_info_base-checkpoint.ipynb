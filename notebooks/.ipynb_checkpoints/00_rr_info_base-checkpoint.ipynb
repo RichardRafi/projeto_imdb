{
 "cells": [
  {
   "cell_type": "markdown",
   "metadata": {},
   "source": [
    "# Análise de sentimento - base IMDB"
   ]
  },
  {
   "cell_type": "markdown",
   "metadata": {},
   "source": [
    "https://www.imdb.com/"
   ]
  },
  {
   "cell_type": "markdown",
   "metadata": {},
   "source": [
    "O dataset IMDB é uma coletânea de críticas de usuários do IMDB (Internet Movie DataBase). \n",
    "\n",
    "Com 50.000 avaliações, divididas igualmente entre positivas e negativas, permite o estudo de análise de sentimentos e processamento de linguagem natural. Este dataset é ideal para treinar modelos de machine learning, permitindo aprofundar seu conhecimento em técnicas de classificação e análise de texto. Através dele, podemos extrair padrões e tendências nas opiniões de espectadores sobre filmes."
   ]
  },
  {
   "cell_type": "markdown",
   "metadata": {},
   "source": [
    "## Estrutura do projeto"
   ]
  },
  {
   "cell_type": "markdown",
   "metadata": {},
   "source": [
    "O projeto seguirá a seguinte estrutura a mesma estrutura de pastas e de organização de código de projetos anteriores. Obviamente, alguns novos conceitos serão introduzidos, mas a estrutura geral será a mesma.\n"
   ]
  }
 ],
 "metadata": {
  "kernelspec": {
   "display_name": "Python 3 (ipykernel)",
   "language": "python",
   "name": "python3"
  },
  "language_info": {
   "codemirror_mode": {
    "name": "ipython",
    "version": 3
   },
   "file_extension": ".py",
   "mimetype": "text/x-python",
   "name": "python",
   "nbconvert_exporter": "python",
   "pygments_lexer": "ipython3",
   "version": "3.12.5"
  }
 },
 "nbformat": 4,
 "nbformat_minor": 4
}
